{
 "cells": [
  {
   "cell_type": "code",
   "execution_count": 1,
   "metadata": {},
   "outputs": [
    {
     "name": "stderr",
     "output_type": "stream",
     "text": [
      "/Users/bennett/opt/anaconda3/lib/python3.7/site-packages/IPython/core/interactiveshell.py:3326: DtypeWarning: Columns (22,32,34,49,55) have mixed types.Specify dtype option on import or set low_memory=False.\n",
      "  exec(code_obj, self.user_global_ns, self.user_ns)\n",
      "/Users/bennett/opt/anaconda3/lib/python3.7/site-packages/IPython/core/interactiveshell.py:3326: DtypeWarning: Columns (49) have mixed types.Specify dtype option on import or set low_memory=False.\n",
      "  exec(code_obj, self.user_global_ns, self.user_ns)\n"
     ]
    }
   ],
   "source": [
    "import pandas as pd\n",
    "import numpy as np\n",
    "\n",
    "df_a = pd.read_csv('properties_2016.csv')\n",
    "df_b = pd.read_csv('properties_2017.csv')"
   ]
  },
  {
   "cell_type": "markdown",
   "metadata": {},
   "source": [
    "## Training Data"
   ]
  },
  {
   "cell_type": "code",
   "execution_count": 2,
   "metadata": {},
   "outputs": [
    {
     "name": "stdout",
     "output_type": "stream",
     "text": [
      "FIPS Coverage: 0.975\n"
     ]
    }
   ],
   "source": [
    "print(f'FIPS Coverage: {df_a.censustractandblock.notna().sum()/len(df_a):.3f}')\n",
    "\n",
    "# Drop Records w/o FIPS values\n",
    "df_a = df_a[df_a.censustractandblock.notna()] \n",
    "\n",
    "# Recode Features with Boolean Values\n",
    "bool_cols = ['hashottuborspa','fireplaceflag'] \n",
    "\n",
    "df_a.loc[:,bool_cols] = (df_a.loc[:,bool_cols] == True).astype(int)\n",
    "    \n",
    "# Code Zeros for \"If Any\" Features\n",
    "if_any_cols = ['fireplacecnt','poolcnt']\n",
    "\n",
    "df_a.loc[:, if_any_cols] = df_a.loc[:, if_any_cols].fillna(0) \n",
    "    \n",
    "non_actionable_cols = [\n",
    "    # Geographic\n",
    "    'latitude',\n",
    "    'longitude',\n",
    "    'rawcensustractandblock', # Duplicative w/ Processed Values\n",
    "    'regionidzip',\n",
    "    'regionidcounty', # Duplicative w/ FIPs\n",
    "    \n",
    "]\n",
    "\n",
    "actionable_cols = [i for i in df_a.columns if i not in non_actionable_cols]\n",
    "\n",
    "df_a = df_a.loc[:, actionable_cols]"
   ]
  },
  {
   "cell_type": "code",
   "execution_count": 3,
   "metadata": {},
   "outputs": [
    {
     "data": {
      "text/plain": [
       "parcelid                        0.000000e+00\n",
       "assessmentyear                  0.000000e+00\n",
       "fireplaceflag                   0.000000e+00\n",
       "propertylandusetypeid           0.000000e+00\n",
       "poolcnt                         0.000000e+00\n",
       "hashottuborspa                  0.000000e+00\n",
       "fireplacecnt                    0.000000e+00\n",
       "fips                            0.000000e+00\n",
       "censustractandblock             0.000000e+00\n",
       "bathroomcnt                     0.000000e+00\n",
       "bedroomcnt                      0.000000e+00\n",
       "roomcnt                         3.436319e-07\n",
       "propertycountylandusecode       4.810846e-06\n",
       "taxvaluedollarcnt               1.539814e-03\n",
       "structuretaxvaluedollarcnt      3.839055e-03\n",
       "taxamount                       4.558620e-03\n",
       "landtaxvaluedollarcnt           9.674268e-03\n",
       "calculatedfinishedsquarefeet    1.100962e-02\n",
       "yearbuilt                       1.233432e-02\n",
       "regionidcity                    1.611187e-02\n",
       "calculatedbathnbr               2.237387e-02\n",
       "fullbathcnt                     2.237387e-02\n",
       "lotsizesquarefeet               7.753160e-02\n",
       "finishedsquarefeet12            8.132632e-02\n",
       "unitcnt                         3.246998e-01\n",
       "propertyzoningdesc              3.290083e-01\n",
       "buildingqualitytypeid           3.386372e-01\n",
       "heatingorsystemtypeid           3.813393e-01\n",
       "regionidneighborhood            6.113524e-01\n",
       "garagetotalsqft                 6.982019e-01\n",
       "garagecarcnt                    6.982019e-01\n",
       "airconditioningtypeid           7.229269e-01\n",
       "numberofstories                 7.694000e-01\n",
       "pooltypeid7                     8.335475e-01\n",
       "threequarterbathnbr             8.938789e-01\n",
       "finishedsquarefeet50            9.305104e-01\n",
       "finishedfloor1squarefeet        9.305104e-01\n",
       "finishedsquarefeet15            9.391985e-01\n",
       "yardbuildingsqft17              9.724438e-01\n",
       "taxdelinquencyyear              9.810965e-01\n",
       "taxdelinquencyflag              9.810972e-01\n",
       "pooltypeid10                    9.873200e-01\n",
       "pooltypeid2                     9.889897e-01\n",
       "poolsizesum                     9.904082e-01\n",
       "finishedsquarefeet6             9.925913e-01\n",
       "decktypeid                      9.941431e-01\n",
       "typeconstructiontypeid          9.976836e-01\n",
       "finishedsquarefeet13            9.978922e-01\n",
       "architecturalstyletypeid        9.979186e-01\n",
       "yardbuildingsqft26              9.991096e-01\n",
       "basementsqft                    9.994440e-01\n",
       "storytypeid                     9.994450e-01\n",
       "buildingclasstypeid             9.997488e-01\n",
       "dtype: float64"
      ]
     },
     "execution_count": 3,
     "metadata": {},
     "output_type": "execute_result"
    }
   ],
   "source": [
    "# Columns by Null Records\n",
    "df_a.isna().sum().sort_values()/len(df_a)"
   ]
  },
  {
   "cell_type": "markdown",
   "metadata": {},
   "source": [
    "Drop Columns with >= 40% missingness (per https://www.sciencedirect.com/science/article/pii/S0895435618308710#:~:text=Statistical%20guidance%20articles%20have%20stated,18%5D%2C%20%5B19%5D.)"
   ]
  },
  {
   "cell_type": "code",
   "execution_count": 4,
   "metadata": {},
   "outputs": [
    {
     "data": {
      "text/plain": [
       "parcelid                        0.000000e+00\n",
       "assessmentyear                  0.000000e+00\n",
       "fireplaceflag                   0.000000e+00\n",
       "propertylandusetypeid           0.000000e+00\n",
       "hashottuborspa                  0.000000e+00\n",
       "fireplacecnt                    0.000000e+00\n",
       "fips                            0.000000e+00\n",
       "poolcnt                         0.000000e+00\n",
       "censustractandblock             0.000000e+00\n",
       "bathroomcnt                     0.000000e+00\n",
       "bedroomcnt                      0.000000e+00\n",
       "roomcnt                         3.436319e-07\n",
       "propertycountylandusecode       4.810846e-06\n",
       "taxvaluedollarcnt               1.539814e-03\n",
       "structuretaxvaluedollarcnt      3.839055e-03\n",
       "taxamount                       4.558620e-03\n",
       "landtaxvaluedollarcnt           9.674268e-03\n",
       "calculatedfinishedsquarefeet    1.100962e-02\n",
       "yearbuilt                       1.233432e-02\n",
       "regionidcity                    1.611187e-02\n",
       "calculatedbathnbr               2.237387e-02\n",
       "fullbathcnt                     2.237387e-02\n",
       "lotsizesquarefeet               7.753160e-02\n",
       "finishedsquarefeet12            8.132632e-02\n",
       "unitcnt                         3.246998e-01\n",
       "propertyzoningdesc              3.290083e-01\n",
       "buildingqualitytypeid           3.386372e-01\n",
       "heatingorsystemtypeid           3.813393e-01\n",
       "dtype: float64"
      ]
     },
     "execution_count": 4,
     "metadata": {},
     "output_type": "execute_result"
    }
   ],
   "source": [
    "keep_cols = df_a.isna().sum().sort_values()/len(df_a) < .6\n",
    "df_a = df_a.loc[:, keep_cols]\n",
    "\n",
    "df_a.isna().sum().sort_values()/len(df_a)"
   ]
  },
  {
   "cell_type": "code",
   "execution_count": 5,
   "metadata": {},
   "outputs": [
    {
     "data": {
      "text/plain": [
       "parcelid                        0.000000\n",
       "taxamount                       0.000000\n",
       "landtaxvaluedollarcnt           0.000000\n",
       "assessmentyear                  0.000000\n",
       "taxvaluedollarcnt               0.000000\n",
       "structuretaxvaluedollarcnt      0.000000\n",
       "fireplaceflag                   0.000000\n",
       "yearbuilt                       0.000000\n",
       "unitcnt                         0.000000\n",
       "roomcnt                         0.000000\n",
       "propertylandusetypeid           0.000000\n",
       "censustractandblock             0.000000\n",
       "poolcnt                         0.000000\n",
       "census_tract                    0.000000\n",
       "hashottuborspa                  0.000000\n",
       "fullbathcnt                     0.000000\n",
       "fireplacecnt                    0.000000\n",
       "fips                            0.000000\n",
       "finishedsquarefeet12            0.000000\n",
       "calculatedfinishedsquarefeet    0.000000\n",
       "calculatedbathnbr               0.000000\n",
       "bedroomcnt                      0.000000\n",
       "bathroomcnt                     0.000000\n",
       "lotsizesquarefeet               0.000000\n",
       "propertycountylandusecode       0.000005\n",
       "regionidcity                    0.016112\n",
       "propertyzoningdesc              0.329008\n",
       "buildingqualitytypeid           0.338637\n",
       "heatingorsystemtypeid           0.381339\n",
       "dtype: float64"
      ]
     },
     "execution_count": 5,
     "metadata": {},
     "output_type": "execute_result"
    }
   ],
   "source": [
    "# Fill Continuous Columns with Median Values\n",
    "continuous_cols = ['roomcnt','taxvaluedollarcnt','taxamount','structuretaxvaluedollarcnt','calculatedfinishedsquarefeet','yearbuilt','landtaxvaluedollarcnt','calculatedbathnbr','lotsizesquarefeet','finishedsquarefeet12', 'unitcnt','fullbathcnt']\n",
    "\n",
    "# Tract-Level Imputation\n",
    "df_a['census_tract'] = df_a.censustractandblock.astype('string').apply(lambda x: x[:11]) # Create Tract String\n",
    "tract_medians = df_a.loc[:, ['census_tract'] + continuous_cols].groupby('census_tract').filter(lambda x: len(x) >= 30).groupby('census_tract').median() # Minmum 30 Records per tract\n",
    "\n",
    "# County Level Imputaiton\n",
    "county_medians = df_a.loc[:, ['fips'] + continuous_cols].groupby('fips').median()\n",
    "\n",
    "# Append Imputations to Dataframe\n",
    "df_a_combined = pd.merge(pd.merge(df_a, tract_medians,'left', ['census_tract','census_tract'], suffixes = (None, '_tract')), county_medians, 'left', ['fips', 'fips'], suffixes = (None, '_county'))\n",
    "\n",
    "for i in continuous_cols:\n",
    "    \n",
    "    state_median = df_a.loc[:,i].median()\n",
    "    df_a.loc[:,i] = df_a.loc[:,i].fillna(df_a_combined.loc[:,f'{i}_tract'])  # Tract Level Imputaiton\n",
    "    df_a.loc[:,i] = df_a.loc[:,i].fillna(df_a_combined.loc[:,f'{i}_county']) # County Level Imputation for Null-Valued Tracts\n",
    "    df_a.loc[:,i] = df_a.loc[:,i].fillna(state_median)                       # State-Level Imputation for Null-Valued Counties\n",
    "    \n",
    "df_a.isna().sum().sort_values()/len(df_a)"
   ]
  },
  {
   "cell_type": "code",
   "execution_count": 6,
   "metadata": {},
   "outputs": [],
   "source": [
    "# # Fill Categorical Columns with Modal Values\n",
    "# categorical_cols = ['propertycountylandusecode','regionidcity','propertyzoningdesc','buildingqualitytypeid','heatingorsystemtypeid']\n",
    "\n",
    "# # Tract-Level Imputation\n",
    "# tract_modes = df_a.loc[:, ['census_tract'] + categorical_cols].groupby('census_tract').filter(lambda x: len(x) >= 30).groupby('census_tract').agg(pd.Series.mode) # Minmum 30 Records per tract\n",
    "# # County Level Imputaiton\n",
    "# county_modes = df_a.loc[:, ['fips'] + categorical_cols].groupby('fips').agg(pd.Series.mode)\n",
    "\n",
    "# # Append Imputations to Dataframe\n",
    "# df_a_combined = pd.merge(pd.merge(df_a, tract_modes,'left', ['census_tract','census_tract'], suffixes = (None, '_tract')), county_modes, 'left', ['fips', 'fips'], suffixes = (None, '_county'))\n",
    "\n",
    "# for i in categorical_cols:\n",
    "    \n",
    "#     state_mode = df_a.loc[:,i].value_counts().index[0]\n",
    "#     df_a.loc[:,i] = df_a.loc[:,i].fillna(df_a_combined.loc[:,f'{i}_tract'])  # Tract Level Imputaiton\n",
    "#     df_a.loc[:,i] = df_a.loc[:,i].fillna(df_a_combined.loc[:,f'{i}_county']) # County Level Imputation for Null-Valued Tracts\n",
    "#     df_a.loc[:,i] = df_a.loc[:,i].fillna(state_mode)                         # State-Level Imputation for Null-Valued Counties\n",
    "    \n",
    "\n",
    "# df_a = df_a.dropna()\n",
    "# df_a.isna().sum().sort_values()/len(df_a)"
   ]
  },
  {
   "cell_type": "code",
   "execution_count": 7,
   "metadata": {},
   "outputs": [],
   "source": [
    "df_a.to_csv('2016_cleaned.csv')"
   ]
  },
  {
   "cell_type": "code",
   "execution_count": 8,
   "metadata": {},
   "outputs": [
    {
     "data": {
      "text/plain": [
       "parcelid                        0.000000\n",
       "taxamount                       0.000000\n",
       "landtaxvaluedollarcnt           0.000000\n",
       "assessmentyear                  0.000000\n",
       "taxvaluedollarcnt               0.000000\n",
       "structuretaxvaluedollarcnt      0.000000\n",
       "fireplaceflag                   0.000000\n",
       "yearbuilt                       0.000000\n",
       "unitcnt                         0.000000\n",
       "roomcnt                         0.000000\n",
       "propertylandusetypeid           0.000000\n",
       "censustractandblock             0.000000\n",
       "poolcnt                         0.000000\n",
       "census_tract                    0.000000\n",
       "hashottuborspa                  0.000000\n",
       "fullbathcnt                     0.000000\n",
       "fireplacecnt                    0.000000\n",
       "fips                            0.000000\n",
       "finishedsquarefeet12            0.000000\n",
       "calculatedfinishedsquarefeet    0.000000\n",
       "calculatedbathnbr               0.000000\n",
       "bedroomcnt                      0.000000\n",
       "bathroomcnt                     0.000000\n",
       "lotsizesquarefeet               0.000000\n",
       "propertycountylandusecode       0.000003\n",
       "regionidcity                    0.016129\n",
       "propertyzoningdesc              0.329097\n",
       "buildingqualitytypeid           0.338883\n",
       "heatingorsystemtypeid           0.361134\n",
       "dtype: float64"
      ]
     },
     "execution_count": 8,
     "metadata": {},
     "output_type": "execute_result"
    }
   ],
   "source": [
    "# Columns by Null Records\n",
    "df_b = df_b[df_b.censustractandblock.notna()] \n",
    "\n",
    "df_b['census_tract'] = df_b.censustractandblock.astype('string').apply(lambda x: x[:11]) # Create Tract String\n",
    "df_b = df_b.loc[:, df_a.columns]\n",
    "\n",
    "\n",
    "# Recode Features with Boolean Values\n",
    "df_b.loc[:,bool_cols] = (df_b.loc[:,bool_cols] == True).astype(int)\n",
    "    \n",
    "# Code Zeros for \"If Any\" Features\n",
    "df_b.loc[:, if_any_cols] = df_b.loc[:, if_any_cols].fillna(0) \n",
    "\n",
    "# # Append Median Imputations to Dataframe\n",
    "df_b_combined = pd.merge(pd.merge(df_b, tract_medians,'left', ['census_tract','census_tract'], suffixes = (None, '_tract')), county_medians, 'left', ['fips', 'fips'], suffixes = (None, '_county'))\n",
    "\n",
    "# # Apply Median Imputations\n",
    "for i in continuous_cols:\n",
    "    \n",
    "    state_median = df_a.loc[:,i].median()\n",
    "    df_b.loc[:,i] = df_b.loc[:,i].fillna(df_b_combined.loc[:,f'{i}_tract'])  # Tract Level Imputaiton\n",
    "    df_b.loc[:,i] = df_b.loc[:,i].fillna(df_b_combined.loc[:,f'{i}_county']) # County Level Imputation for Null-Valued Tracts\n",
    "    df_b.loc[:,i] = df_b.loc[:,i].fillna(state_median) \n",
    "\n",
    "# # # Append Mode to Dataframe\n",
    "# df_b_combined = pd.merge(pd.merge(df_b, tract_modes,'left', ['census_tract','census_tract'], suffixes = (None, '_tract')), county_modes, 'left', ['fips', 'fips'], suffixes = (None, '_county'))\n",
    "\n",
    "# for i in categorical_cols:\n",
    "    \n",
    "#     state_mode = df_a.loc[:,i].value_counts().index[0]\n",
    "#     df_b.loc[:,i] = df_b.loc[:,i].fillna(df_b_combined.loc[:,f'{i}_tract'])  # Tract Level Imputaiton\n",
    "#     df_b.loc[:,i] = df_b.loc[:,i].fillna(df_b_combined.loc[:,f'{i}_county']) # County Level Imputation for Null-Valued Tracts\n",
    "#     df_b.loc[:,i] = df_b.loc[:,i].fillna(state_mode)                         # State-Level Imputation for Null-Valued Counties\n",
    "    \n",
    "    \n",
    "df_b.isna().sum().sort_values()/len(df_b)"
   ]
  },
  {
   "cell_type": "code",
   "execution_count": 9,
   "metadata": {},
   "outputs": [],
   "source": [
    "df_b.to_csv('2017_cleaned.csv')"
   ]
  }
 ],
 "metadata": {
  "kernelspec": {
   "display_name": "Python 3",
   "language": "python",
   "name": "python3"
  },
  "language_info": {
   "codemirror_mode": {
    "name": "ipython",
    "version": 3
   },
   "file_extension": ".py",
   "mimetype": "text/x-python",
   "name": "python",
   "nbconvert_exporter": "python",
   "pygments_lexer": "ipython3",
   "version": "3.7.4"
  }
 },
 "nbformat": 4,
 "nbformat_minor": 4
}
